{
  "nbformat": 4,
  "nbformat_minor": 0,
  "metadata": {
    "colab": {
      "provenance": []
    },
    "kernelspec": {
      "name": "python3",
      "display_name": "Python 3"
    },
    "language_info": {
      "name": "python"
    }
  },
  "cells": [
    {
      "cell_type": "markdown",
      "source": [
        "Basic Syntax"
      ],
      "metadata": {
        "id": "hlLlsnQAc71b"
      }
    },
    {
      "cell_type": "code",
      "source": [
        "print(\"I am Swagat.\") #Function call\n",
        "a=18 #Variable assignmnt\n",
        "b=21 #No need to declare type\n"
      ],
      "metadata": {
        "colab": {
          "base_uri": "https://localhost:8080/"
        },
        "id": "a1-sKQ1A6qud",
        "outputId": "496c0238-b5d7-4bce-f392-12cf284b0168"
      },
      "execution_count": null,
      "outputs": [
        {
          "output_type": "stream",
          "name": "stdout",
          "text": [
            "I am Swagat.\n"
          ]
        }
      ]
    },
    {
      "cell_type": "markdown",
      "source": [
        "Python is case-sensitive"
      ],
      "metadata": {
        "id": "AK0tIwSf7Nxg"
      }
    },
    {
      "cell_type": "code",
      "source": [
        "Name =\"Swagat\"\n",
        "name=\"Rohini\"\n",
        "print(Name,name) #Different variables"
      ],
      "metadata": {
        "colab": {
          "base_uri": "https://localhost:8080/"
        },
        "id": "p3kZcpnl7SVh",
        "outputId": "529bad18-ab19-4dc0-fd1a-cacf57850383"
      },
      "execution_count": null,
      "outputs": [
        {
          "output_type": "stream",
          "name": "stdout",
          "text": [
            "Swagat Rohini\n"
          ]
        }
      ]
    },
    {
      "cell_type": "markdown",
      "source": [
        "Indentation matters"
      ],
      "metadata": {
        "id": "8cCZCi-m7lbu"
      }
    },
    {
      "cell_type": "code",
      "source": [
        "if a>0:\n",
        "  print(\"a is positive\") #4 spaces indentation\n",
        "  print(\"inside the if block\")"
      ],
      "metadata": {
        "colab": {
          "base_uri": "https://localhost:8080/"
        },
        "id": "soLIP8hh7pP9",
        "outputId": "6ed53875-c2b3-4e1a-edc0-6b3bf0fa4607"
      },
      "execution_count": null,
      "outputs": [
        {
          "output_type": "stream",
          "name": "stdout",
          "text": [
            "a is positive\n",
            "inside the if block\n"
          ]
        }
      ]
    },
    {
      "cell_type": "markdown",
      "source": [
        "Variables & Data Types\n",
        "\n",
        "Numeric Types"
      ],
      "metadata": {
        "id": "ivY1ASnu8AsW"
      }
    },
    {
      "cell_type": "code",
      "source": [
        "age = 20 #int\n",
        "height = 5.4 #float\n",
        "complex_num =2 + 4j #complex"
      ],
      "metadata": {
        "id": "-U7KvzLZ8Jxe"
      },
      "execution_count": null,
      "outputs": []
    },
    {
      "cell_type": "markdown",
      "source": [
        "String Type"
      ],
      "metadata": {
        "id": "dK9hA4JS8lqz"
      }
    },
    {
      "cell_type": "code",
      "source": [
        "name = \"Swagat\"\n",
        "message = \"Hello World\"\n",
        "multiline = \"\"\"Multiline\n",
        "code\"\"\""
      ],
      "metadata": {
        "id": "NM0K9JNV8qkw"
      },
      "execution_count": null,
      "outputs": []
    },
    {
      "cell_type": "markdown",
      "source": [
        "Boolean Type"
      ],
      "metadata": {
        "id": "2w9qof0x9DYs"
      }
    },
    {
      "cell_type": "code",
      "source": [
        "is_complete = True\n",
        "is_finished = False"
      ],
      "metadata": {
        "id": "fRePJTE69LO5"
      },
      "execution_count": null,
      "outputs": []
    },
    {
      "cell_type": "markdown",
      "source": [
        "Type Checking"
      ],
      "metadata": {
        "id": "jRk7EMVg9YYG"
      }
    },
    {
      "cell_type": "code",
      "source": [
        "print(type(age))\n",
        "print(type(height))\n",
        "print(type(name))\n",
        "print(type(complex_num))"
      ],
      "metadata": {
        "colab": {
          "base_uri": "https://localhost:8080/"
        },
        "id": "x-VTzsrU9ba2",
        "outputId": "b37b337a-b3ba-41fa-8e3c-65f2eea759c0"
      },
      "execution_count": null,
      "outputs": [
        {
          "output_type": "stream",
          "name": "stdout",
          "text": [
            "<class 'int'>\n",
            "<class 'float'>\n",
            "<class 'str'>\n",
            "<class 'complex'>\n"
          ]
        }
      ]
    },
    {
      "cell_type": "markdown",
      "source": [
        "Type Conversion"
      ],
      "metadata": {
        "id": "1QOQ0D5c9yS1"
      }
    },
    {
      "cell_type": "code",
      "source": [
        "str_number = \"1008\"\n",
        "int_number = int(str_number)\n",
        "float_number = float(str_number)\n",
        "\n",
        "print(f\"Original:{str_number} (type: {type(str_number)})\")\n",
        "print(f\"Integer:{int_number} (type: {type(int_number)})\")\n",
        "print(f\"Float:{float_number} (type: {type(float_number)})\")\n",
        "\n",
        "\n",
        "\n",
        "\n"
      ],
      "metadata": {
        "colab": {
          "base_uri": "https://localhost:8080/"
        },
        "id": "UwQNNKTq93Bq",
        "outputId": "6d9c6ec8-55a8-47fb-896c-27f3e2ed9499"
      },
      "execution_count": null,
      "outputs": [
        {
          "output_type": "stream",
          "name": "stdout",
          "text": [
            "Original:1008 (type: <class 'str'>)\n",
            "Integer:1008 (type: <class 'int'>)\n",
            "Float:1008.0 (type: <class 'float'>)\n"
          ]
        }
      ]
    },
    {
      "cell_type": "markdown",
      "source": [
        "Personal Information\n",
        "\n",
        "Create variables for personal information\n",
        "\n"
      ],
      "metadata": {
        "id": "wP-2pMUEHmVf"
      }
    },
    {
      "cell_type": "code",
      "source": [
        "first_name = \"Swagat\"\n",
        "last_name = \"Daddi\"\n",
        "age = 20\n",
        "height = 5.4\n",
        "is_student = True\n",
        "\n"
      ],
      "metadata": {
        "id": "qpuBelFnHwl8"
      },
      "execution_count": null,
      "outputs": []
    },
    {
      "cell_type": "markdown",
      "source": [
        "Print formatted information"
      ],
      "metadata": {
        "id": "0AsgJCuHIFdu"
      }
    },
    {
      "cell_type": "code",
      "source": [
        "print(f\"Name: {first_name} {last_name}\")\n",
        "print(f\"Age: {age}\")\n",
        "print(f\"Height:{height}feet\")\n",
        "print(f\"Student:{is_student}\")\n"
      ],
      "metadata": {
        "colab": {
          "base_uri": "https://localhost:8080/"
        },
        "id": "bjbij8jqIJzX",
        "outputId": "3f0ae9aa-7da0-49aa-b2cb-e8b0744b4707"
      },
      "execution_count": null,
      "outputs": [
        {
          "output_type": "stream",
          "name": "stdout",
          "text": [
            "Name: Swagat Daddi\n",
            "Age: 20\n",
            "Height:5.4feet\n",
            "Student:True\n"
          ]
        }
      ]
    },
    {
      "cell_type": "markdown",
      "source": [
        "Operators & Basic Operations"
      ],
      "metadata": {
        "id": "fk6AmIwqJq6l"
      }
    },
    {
      "cell_type": "code",
      "source": [
        "a =10\n",
        "b = 3\n",
        "\n",
        "print(f\"Addition:{a} + {b} = {a+b}\")\n",
        "print(f\"Substraction:{a} - {b} = {a-b}\")\n",
        "print(f\"Multiplication:{a} * {b} = {a*b}\")\n",
        "print(f\"Division: {a} / {b} = {a/b}\")\n",
        "print(f\"Modulus: {a} % {b} = {a%b}\")\n",
        "print(f\"Floor Division: {a} // {b} = {a//b}\")\n",
        "print(f\"Exponentiation: {a} ** {b} = {a**b}\")\n"
      ],
      "metadata": {
        "colab": {
          "base_uri": "https://localhost:8080/"
        },
        "id": "MEJP6LVdJ179",
        "outputId": "eb9b0965-91b9-4e8a-a48a-d1e0eefc3126"
      },
      "execution_count": null,
      "outputs": [
        {
          "output_type": "stream",
          "name": "stdout",
          "text": [
            "Addition:10 + 3 = 13\n",
            "Substraction:10 - 3 = 7\n",
            "Multiplication:10 * 3 = 30\n",
            "Division: 10 / 3 = 3.3333333333333335\n",
            "Modulus: 10 % 3 = 1\n",
            "Floor Division: 10 // 3 = 3\n",
            "Exponentiation: 10 ** 3 = 1000\n"
          ]
        }
      ]
    },
    {
      "cell_type": "markdown",
      "source": [
        "Order of operation(PEMDAS)\n"
      ],
      "metadata": {
        "id": "741n_gw4LuWA"
      }
    },
    {
      "cell_type": "markdown",
      "source": [
        "\n",
        "\n",
        "* P-Parenthesis\n",
        "* E-Exponents\n",
        "* M-Multiplication\n",
        "* D-Division\n",
        "* A-Addition\n",
        "* S-Substraction\n",
        "\n"
      ],
      "metadata": {
        "id": "FODOZhMWMhkb"
      }
    },
    {
      "cell_type": "code",
      "source": [
        "result = 2 + 3 * 4 ** 2 -1\n",
        "print(f\" 2 + 3 * 4 ** 2 -1 = {result}\")\n"
      ],
      "metadata": {
        "colab": {
          "base_uri": "https://localhost:8080/"
        },
        "id": "7qJMKiU7NFNW",
        "outputId": "6a0de124-471a-4f6d-9d49-5c6a08cbde8f"
      },
      "execution_count": null,
      "outputs": [
        {
          "output_type": "stream",
          "name": "stdout",
          "text": [
            " 2 + 3 * 4 ** 2 -1 = 49\n"
          ]
        }
      ]
    },
    {
      "cell_type": "markdown",
      "source": [
        "Relational Operators (or) Comparison"
      ],
      "metadata": {
        "id": "a8NxZwzNNiIi"
      }
    },
    {
      "cell_type": "code",
      "source": [
        "x = 10\n",
        "y = 20\n",
        "\n",
        "print(f\"{x} == {y}:{x==y}\")\n",
        "print(f\"{x} != {y}:{x!=y}\")\n",
        "print(f\"{x} > {y}:{x>y}\")\n",
        "print(f\"{x} < {y}:{x<y}\")\n",
        "print(f\"{x} >= {y}:{x>=y}\")\n",
        "print(f\"{x} <= {y}:{x<=y}\")"
      ],
      "metadata": {
        "colab": {
          "base_uri": "https://localhost:8080/"
        },
        "id": "CkxtjHWnNrtb",
        "outputId": "2b5cc2ba-ca3f-4cd8-e791-bebef242343e"
      },
      "execution_count": null,
      "outputs": [
        {
          "output_type": "stream",
          "name": "stdout",
          "text": [
            "10 == 20:False\n",
            "10 != 20:True\n",
            "10 > 20:False\n",
            "10 < 20:True\n",
            "10 >= 20:False\n",
            "10 <= 20:True\n"
          ]
        }
      ]
    },
    {
      "cell_type": "markdown",
      "source": [
        "String Comparision"
      ],
      "metadata": {
        "id": "U3G38mRPOxwt"
      }
    },
    {
      "cell_type": "code",
      "source": [
        "name1 = \"Swagat\"\n",
        "name2 = \"Daddi\"\n",
        "print(f\" '{name1}' > '{name2}':{name1 > name2}\") #Alphabetical order"
      ],
      "metadata": {
        "colab": {
          "base_uri": "https://localhost:8080/"
        },
        "id": "w7iMH54yO1Rq",
        "outputId": "4f981cbc-e3ef-45d9-d219-fd3dd81e2c8b"
      },
      "execution_count": null,
      "outputs": [
        {
          "output_type": "stream",
          "name": "stdout",
          "text": [
            " 'Swagat' > 'Daddi':True\n"
          ]
        }
      ]
    },
    {
      "cell_type": "markdown",
      "source": [
        "Logical Operator"
      ],
      "metadata": {
        "id": "0losJOFeQFOe"
      }
    },
    {
      "cell_type": "code",
      "source": [
        "p = True\n",
        "q = False\n",
        "\n",
        "print(f\"p and q: {p and q}\") #both true\n",
        "print(f\"p or q: {p or q}\") #atleast one true\n",
        "print(f\"not p:{not p}\") #Opposite of p"
      ],
      "metadata": {
        "colab": {
          "base_uri": "https://localhost:8080/"
        },
        "id": "vBRiSqIyQI7H",
        "outputId": "ea73fb9c-dd50-4d17-ad17-f77103188a10"
      },
      "execution_count": null,
      "outputs": [
        {
          "output_type": "stream",
          "name": "stdout",
          "text": [
            "p and q: False\n",
            "p or q: True\n",
            "not p:False\n"
          ]
        }
      ]
    },
    {
      "cell_type": "code",
      "source": [],
      "metadata": {
        "id": "jxcfBZS0dgyl"
      },
      "execution_count": null,
      "outputs": []
    },
    {
      "cell_type": "code",
      "source": [],
      "metadata": {
        "id": "lhrHAX5ddgFJ"
      },
      "execution_count": null,
      "outputs": []
    },
    {
      "cell_type": "markdown",
      "source": [],
      "metadata": {
        "id": "BBeoYr7tQ8qa"
      }
    },
    {
      "cell_type": "code",
      "source": [
        "#Practical Example\n",
        "age = 20\n",
        "has_license = True\n",
        "can_drive = age >= 18 and has_license\n",
        "print(f\"Can drive: {can_drive}\")"
      ],
      "metadata": {
        "colab": {
          "base_uri": "https://localhost:8080/"
        },
        "id": "UdTQP6MKRAi-",
        "outputId": "36fa4fe5-6562-49c2-c159-d14967ffc14e"
      },
      "execution_count": null,
      "outputs": [
        {
          "output_type": "stream",
          "name": "stdout",
          "text": [
            "Can drive: True\n"
          ]
        }
      ]
    },
    {
      "cell_type": "markdown",
      "source": [],
      "metadata": {
        "id": "wOtTHij-dmGs"
      }
    },
    {
      "cell_type": "markdown",
      "source": [],
      "metadata": {
        "id": "j9gfHaiodnXd"
      }
    },
    {
      "cell_type": "code",
      "source": [],
      "metadata": {
        "id": "-_ZwawdRdonm"
      },
      "execution_count": null,
      "outputs": []
    },
    {
      "cell_type": "markdown",
      "source": [],
      "metadata": {
        "id": "d6SVNdSVdpyY"
      }
    },
    {
      "cell_type": "markdown",
      "source": [],
      "metadata": {
        "id": "4Hu4bmW9MRT_"
      }
    },
    {
      "cell_type": "code",
      "source": [
        "#Multiple conditions\n",
        "\n",
        "score = 85\n",
        "is_present = True\n",
        "can_pass = score >=80 and is_present\n",
        "print(f\"Can pass:{can_pass}\")"
      ],
      "metadata": {
        "colab": {
          "base_uri": "https://localhost:8080/"
        },
        "id": "pzyCs0VKMOxC",
        "outputId": "375973f0-8eba-46be-ccc4-17e59079009c"
      },
      "execution_count": null,
      "outputs": [
        {
          "output_type": "stream",
          "name": "stdout",
          "text": [
            "Can pass:True\n"
          ]
        }
      ]
    },
    {
      "cell_type": "markdown",
      "source": [
        "Simple Calculator\n",
        "\n",
        "Create a calculator that checks if a person qualifies for loan"
      ],
      "metadata": {
        "id": "ARBkB_rJf7Ci"
      }
    },
    {
      "cell_type": "code",
      "source": [
        "#Personal information\n",
        "age = 25\n",
        "annual_income = 50000\n",
        "credit_score = 720\n",
        "has_collateral = True\n",
        "\n",
        "#Loan criteria\n",
        "min_age = 18\n",
        "min_income = 30000\n",
        "min_credit_score = 650\n",
        "\n",
        "#Check Qualification\n",
        "age_qualified = age >= min_age\n",
        "income_qualified = annual_income >= min_income\n",
        "credit_qualified = credit_score >= min_credit_score\n",
        "overall_qualified = age_qualified and income_qualified and credit_qualified\n",
        "\n",
        "print(\"=== Loan Qualification check===\")\n",
        "print(f\"Age:{age} (Required:{min_age}) - {'Yes' if age_qualified else 'No'}\")\n",
        "print(f\"Income:${annual_income} (Required:${min_income}) {'Yes' if credit_qualified else 'No'}\")\n",
        "print(f\"Credit Score:{credit_score} (Required:{min_credit_score})-{'Yes'if credit_qualified else 'No'}\")\n",
        "print(f\"Has collateral:{'Yes' if has_collateral else 'No'}\")\n",
        "print(f\"\\nOverall Qualification:{'QUALIFIED' if overall_qualified else 'NOT QUALIFIED'}\")"
      ],
      "metadata": {
        "colab": {
          "base_uri": "https://localhost:8080/"
        },
        "id": "1SobuBfegNKk",
        "outputId": "f02c3ed4-2bb4-4159-bb79-b861eb0f53e0"
      },
      "execution_count": null,
      "outputs": [
        {
          "output_type": "stream",
          "name": "stdout",
          "text": [
            "=== Loan Qualification check===\n",
            "Age:25 (Required:18) - Yes\n",
            "Income:$50000 (Required:$30000) Yes\n",
            "Credit Score:720 (Required:650)-Yes\n",
            "Has collateral:Yes\n",
            "\n",
            "Overall Qualification:QUALIFIED\n"
          ]
        }
      ]
    },
    {
      "cell_type": "code",
      "source": [],
      "metadata": {
        "id": "AKqZ_pebgA20"
      },
      "execution_count": null,
      "outputs": []
    },
    {
      "cell_type": "markdown",
      "source": [
        "Lists\n",
        "\n",
        "Creating lists"
      ],
      "metadata": {
        "id": "Q1H44RoUn1wz"
      }
    },
    {
      "cell_type": "code",
      "source": [
        "fruits = [\"apple\" , \"banana\" , \"orange\" , \"grape\" ]\n",
        "numbers = [10,20,30,40,50]\n",
        "mixed_data = [1,\"Hello\",3.14,True]\n"
      ],
      "metadata": {
        "id": "NNGPGtfNn70t"
      },
      "execution_count": null,
      "outputs": []
    },
    {
      "cell_type": "markdown",
      "source": [
        "List indexing (0-based)"
      ],
      "metadata": {
        "id": "i6IGfTmipqcl"
      }
    },
    {
      "cell_type": "code",
      "source": [
        "print(f\"First fruit:{fruits[0]}\")\n",
        "print(f\"Last fruit: {fruits[-1]}\")\n",
        "print(f\"Second to last: {fruits[-2]}\")"
      ],
      "metadata": {
        "colab": {
          "base_uri": "https://localhost:8080/"
        },
        "id": "QXRDS34lpvQE",
        "outputId": "6fd862d1-5e46-4a01-d895-7a38abe1e56b"
      },
      "execution_count": null,
      "outputs": [
        {
          "output_type": "stream",
          "name": "stdout",
          "text": [
            "First fruit:apple\n",
            "Last fruit: grape\n",
            "Second to last: orange\n"
          ]
        }
      ]
    },
    {
      "cell_type": "markdown",
      "source": [
        "List methods"
      ],
      "metadata": {
        "id": "iEyVx6NpgCpu"
      }
    },
    {
      "cell_type": "code",
      "source": [
        "fruits.append(\"kiwi\") #Add to end\n",
        "fruits.insert(2,\"strawberry\") #Insert at index\n",
        "removed = fruits.pop(2) #Remove last\n",
        "print(f\"Updated list: {fruits}\")\n",
        "print(f\"Removed: {removed}\")\n"
      ],
      "metadata": {
        "colab": {
          "base_uri": "https://localhost:8080/"
        },
        "id": "x6HbmcZr1old",
        "outputId": "dc4af649-a921-42a1-ca48-0f499eb70bca"
      },
      "execution_count": null,
      "outputs": [
        {
          "output_type": "stream",
          "name": "stdout",
          "text": [
            "Updated list: ['apple', 'banana', 'strawberry', 'orange', 'grape', 'kiwi']\n",
            "Removed: strawberry\n"
          ]
        }
      ]
    },
    {
      "cell_type": "markdown",
      "source": [],
      "metadata": {
        "id": "ayZwvye04_9x"
      }
    },
    {
      "cell_type": "markdown",
      "source": [
        "List slicing"
      ],
      "metadata": {
        "id": "j0aKL87T2vdl"
      }
    },
    {
      "cell_type": "code",
      "source": [
        "print(f\"First 2 fruits: {fruits[0:2]}\")\n",
        "print(f\"Last 2 fruits: {fruits[-2:]}\")\n",
        "print(f\"All except first:{fruits[1:-3]}\")"
      ],
      "metadata": {
        "colab": {
          "base_uri": "https://localhost:8080/"
        },
        "id": "TL9ozuL32zUO",
        "outputId": "5cafb06d-6ff6-44d1-8b77-01cc43b3d7bc"
      },
      "execution_count": null,
      "outputs": [
        {
          "output_type": "stream",
          "name": "stdout",
          "text": [
            "First 2 fruits: ['apple', 'banana']\n",
            "Last 2 fruits: ['orange', 'grape']\n",
            "All except first:['banana']\n"
          ]
        }
      ]
    },
    {
      "cell_type": "markdown",
      "source": [
        "List operations"
      ],
      "metadata": {
        "id": "CHFlHF3S3mim"
      }
    },
    {
      "cell_type": "code",
      "source": [
        "print(f\"Length: {len(fruits)}\")\n",
        "print(f\"Contains 'apple':{'apple' in fruits}\")\n",
        "print(f\"Index of 'banana':{fruits.index('banana')}\")"
      ],
      "metadata": {
        "colab": {
          "base_uri": "https://localhost:8080/"
        },
        "id": "qDBfZLXH3pvh",
        "outputId": "a38802f5-0fd1-4dc6-becc-0d000b2d68b7"
      },
      "execution_count": null,
      "outputs": [
        {
          "output_type": "stream",
          "name": "stdout",
          "text": [
            "Length: 5\n",
            "Contains 'apple':True\n",
            "Index of 'banana':1\n"
          ]
        }
      ]
    },
    {
      "cell_type": "markdown",
      "source": [
        "Tuples\n",
        "\n",
        "Tuples are immutable"
      ],
      "metadata": {
        "id": "uNjMoGnFk7TJ"
      }
    },
    {
      "cell_type": "code",
      "source": [
        "coordinates = (10,20)\n",
        "rgb_color = (255,128,0)\n",
        "person_info = (\"Alice\",25,\"Engineer\",True)\n"
      ],
      "metadata": {
        "id": "feLlmMz3lL3A"
      },
      "execution_count": null,
      "outputs": []
    },
    {
      "cell_type": "markdown",
      "source": [
        "Tuples unpacking"
      ],
      "metadata": {
        "id": "7nejoEStlpUu"
      }
    },
    {
      "cell_type": "code",
      "source": [
        "x,y = coordinates\n",
        "print(f\"X: {x},Y: {y}\")"
      ],
      "metadata": {
        "colab": {
          "base_uri": "https://localhost:8080/"
        },
        "id": "1fFq87c2lugD",
        "outputId": "995ab67d-1743-4564-da3c-8fe05bb85b9c"
      },
      "execution_count": null,
      "outputs": [
        {
          "output_type": "stream",
          "name": "stdout",
          "text": [
            "X: 10,Y: 20\n"
          ]
        }
      ]
    },
    {
      "cell_type": "markdown",
      "source": [
        "Tuple methods"
      ],
      "metadata": {
        "id": "xzzvei8Tma38"
      }
    },
    {
      "cell_type": "markdown",
      "source": [],
      "metadata": {
        "id": "syfPXZP0oPrk"
      }
    },
    {
      "cell_type": "code",
      "source": [
        "print(f\"count of 25: {person_info.count(25)}\")\n",
        "print(f\"Index of 'Engineer':{person_info.index('Engineer')}\")"
      ],
      "metadata": {
        "colab": {
          "base_uri": "https://localhost:8080/"
        },
        "id": "Lx091f5XmeKs",
        "outputId": "e7d7e600-8f3f-4c08-8cae-9b973c762936"
      },
      "execution_count": null,
      "outputs": [
        {
          "output_type": "stream",
          "name": "stdout",
          "text": [
            "count of 25: 1\n",
            "Index of 'Engineer':2\n"
          ]
        }
      ]
    },
    {
      "cell_type": "markdown",
      "source": [
        "Why use tuples\n",
        "\n",
        "\n",
        "* Immutable(safe for dictionary keys)\n",
        "* Slightly faster than lists\n",
        "* Good for fixed collections\n",
        "\n",
        "\n",
        "\n",
        "\n"
      ],
      "metadata": {
        "id": "XedZMQDbn1Wx"
      }
    },
    {
      "cell_type": "code",
      "source": [],
      "metadata": {
        "id": "Lak5WAn_oOKN"
      },
      "execution_count": null,
      "outputs": []
    },
    {
      "cell_type": "markdown",
      "source": [
        "Dictionaries\n",
        "\n",
        "Dictionary creation"
      ],
      "metadata": {
        "id": "2_62_dCQoSiV"
      }
    },
    {
      "cell_type": "code",
      "source": [
        "person = {\n",
        "\"name\":\"Vaibhav R Muragundi\",\n",
        "\"age\":26,\n",
        "\"profession\":\"Advocate\",\n",
        "\"salary\":\"not predictable\",\n",
        "\"skills\":[\"Analytic reasoning\",\"Attention to detail\",\"Problem Solving\"]\n",
        "}\n"
      ],
      "metadata": {
        "id": "hOY4WlfioZGI"
      },
      "execution_count": null,
      "outputs": []
    },
    {
      "cell_type": "markdown",
      "source": [],
      "metadata": {
        "id": "3likPfWntPcV"
      }
    },
    {
      "cell_type": "markdown",
      "source": [
        "Accessing values"
      ],
      "metadata": {
        "id": "D8GlTOSqp_Ec"
      }
    },
    {
      "cell_type": "code",
      "source": [
        "print(f\"Name: {person['name']}\")\n",
        "print(f\"Age: {person.get('age','Unknown')}\") #Safe access\n",
        "print(f\"Profession: {person.get('profession','Unknown')}\")\n",
        "print(f\"Salary: {person.get('salary','Unknown')}\")\n",
        "print(f\"Skills: {person.get('skills','Unknown')}\")"
      ],
      "metadata": {
        "colab": {
          "base_uri": "https://localhost:8080/"
        },
        "id": "SLsRz7DiqDRn",
        "outputId": "21f26131-f467-42db-c33d-65a64f6c339e"
      },
      "execution_count": null,
      "outputs": [
        {
          "output_type": "stream",
          "name": "stdout",
          "text": [
            "Name: Vaibhav R Muragundi\n",
            "Age: 26\n",
            "Profession: Advocate\n",
            "Salary: not predictable\n",
            "Skills: ['Analytic reasoning', 'Attention to detail', 'Problem Solving']\n"
          ]
        }
      ]
    },
    {
      "cell_type": "code",
      "source": [],
      "metadata": {
        "id": "S-jjJGOslC47"
      },
      "execution_count": null,
      "outputs": []
    },
    {
      "cell_type": "markdown",
      "source": [
        "Dictionary methods"
      ],
      "metadata": {
        "id": "kSz37pYNlD-6"
      }
    },
    {
      "cell_type": "code",
      "source": [
        "print(f\"keys:{list(person.keys())}\")\n",
        "print(f\"Values:{list(person.values())}\")\n",
        "print(f\"Items: {list(person.items())}\")"
      ],
      "metadata": {
        "colab": {
          "base_uri": "https://localhost:8080/"
        },
        "id": "NfUUUGzvtjpO",
        "outputId": "38c7378b-0e48-437c-a90b-ac466f7992dc"
      },
      "execution_count": null,
      "outputs": [
        {
          "output_type": "stream",
          "name": "stdout",
          "text": [
            "keys:['name', 'age', 'profession', 'salary', 'skills']\n",
            "Values:['Vaibhav R Muragundi', 26, 'Advocate', 'not predictable', ['Analytic reasoning', 'Attention to detail', 'Problem Solving']]\n",
            "Items: [('name', 'Vaibhav R Muragundi'), ('age', 26), ('profession', 'Advocate'), ('salary', 'not predictable'), ('skills', ['Analytic reasoning', 'Attention to detail', 'Problem Solving'])]\n"
          ]
        }
      ]
    },
    {
      "cell_type": "markdown",
      "source": [
        "Adding/Updating"
      ],
      "metadata": {
        "id": "yTFGexw9uFbm"
      }
    },
    {
      "cell_type": "code",
      "source": [
        "person[\"location\"] = \"New York\"\n",
        "person[\"salary\"] = 80000 #update existing"
      ],
      "metadata": {
        "id": "TQUu0yMTuJOf"
      },
      "execution_count": null,
      "outputs": []
    },
    {
      "cell_type": "markdown",
      "source": [
        "Practical use case:Inventory management"
      ],
      "metadata": {
        "id": "uf1Tv-GquhjG"
      }
    },
    {
      "cell_type": "code",
      "source": [
        "inventory = {\n",
        "\"laptops\" :{\"quantity\":50,\"price\":999.99},\n",
        "\"phones\" :{\"quantity\":100,\"price\":599.99},\n",
        "\"tablets\" :{\"quantity\":30,\"price\":399.99}\n",
        "}"
      ],
      "metadata": {
        "id": "6QfKrDTouoWs"
      },
      "execution_count": null,
      "outputs": []
    },
    {
      "cell_type": "markdown",
      "source": [
        "Nested Access"
      ],
      "metadata": {
        "id": "X_RYvx73vfQu"
      }
    },
    {
      "cell_type": "code",
      "source": [
        "print(f\"Laptop price: ${inventory['laptops']['price']}\")\n",
        "print(f\"Phones price: ${inventory['phones']['price']}\")\n",
        "print(f\"tablets price: ${inventory['tablets']['price']}\")"
      ],
      "metadata": {
        "colab": {
          "base_uri": "https://localhost:8080/"
        },
        "id": "hXwpC3ilviyu",
        "outputId": "d57576e0-7757-401c-dc4b-9e7abf4f514f"
      },
      "execution_count": null,
      "outputs": [
        {
          "output_type": "stream",
          "name": "stdout",
          "text": [
            "Laptop price: $999.99\n",
            "Phones price: $599.99\n",
            "tablets price: $399.99\n"
          ]
        }
      ]
    },
    {
      "cell_type": "markdown",
      "source": [
        "Sets\n",
        "\n",
        "Set contain unique elements\n",
        "\n"
      ],
      "metadata": {
        "id": "K4U2IlqCw8kG"
      }
    },
    {
      "cell_type": "code",
      "source": [
        "colors = {\"red\",\"blue\",\"green\",\"red\"} #duplicate removed\n",
        "print(f\"Colors:{colors}\")"
      ],
      "metadata": {
        "colab": {
          "base_uri": "https://localhost:8080/"
        },
        "id": "nHtMY7HDxP2J",
        "outputId": "dcc79b13-f44f-4a89-85fc-cb02b21061d2"
      },
      "execution_count": null,
      "outputs": [
        {
          "output_type": "stream",
          "name": "stdout",
          "text": [
            "Colors:{'green', 'blue', 'red'}\n"
          ]
        }
      ]
    },
    {
      "cell_type": "markdown",
      "source": [
        "Set operations"
      ],
      "metadata": {
        "id": "PgjUaV4cxhYM"
      }
    },
    {
      "cell_type": "code",
      "source": [
        "team1_skills = {\"Python\",\"Javascript\",\"SQL\",\"React\"}\n",
        "team2_skills = {\"Javascript\",\"SQL\",\"Java\",\"Spring\"}\n"
      ],
      "metadata": {
        "id": "fXekOBVhxjt7"
      },
      "execution_count": null,
      "outputs": []
    },
    {
      "cell_type": "markdown",
      "source": [
        "Common operations"
      ],
      "metadata": {
        "id": "zNK3cSfrx7by"
      }
    },
    {
      "cell_type": "code",
      "source": [
        "print(f\"Common skills:{team1_skills.intersection(team2_skills)}\")\n",
        "print(f\"All skills:{team1_skills.union(team2_skills)}\")\n",
        "print(f\"Team1 only:{team1_skills.difference(team2_skills)}\")"
      ],
      "metadata": {
        "colab": {
          "base_uri": "https://localhost:8080/"
        },
        "id": "T4Wm2PkIx-jt",
        "outputId": "239750ed-4c9e-4f23-ccc1-df8f82b3808b"
      },
      "execution_count": null,
      "outputs": [
        {
          "output_type": "stream",
          "name": "stdout",
          "text": [
            "Common skills:{'Javascript', 'SQL'}\n",
            "All skills:{'Javascript', 'SQL', 'Java', 'Spring', 'React', 'Python'}\n",
            "Team1 only:{'Python', 'React'}\n"
          ]
        }
      ]
    },
    {
      "cell_type": "markdown",
      "source": [
        "Adding to sets"
      ],
      "metadata": {
        "id": "RpRaeFxYzqa2"
      }
    },
    {
      "cell_type": "code",
      "source": [
        "colors.add(\"yellow\")\n",
        "colors.update([\"purple\",\"orange\"])\n",
        "print(f\"Updated colors:{colors}\")"
      ],
      "metadata": {
        "colab": {
          "base_uri": "https://localhost:8080/"
        },
        "id": "WRnScsAQzsns",
        "outputId": "c2c0d583-c85c-4d08-f6fd-b3b33f055722"
      },
      "execution_count": null,
      "outputs": [
        {
          "output_type": "stream",
          "name": "stdout",
          "text": [
            "Updated colors:{'yellow', 'purple', 'green', 'blue', 'orange', 'red'}\n"
          ]
        }
      ]
    },
    {
      "cell_type": "markdown",
      "source": [
        "Control Flow\n",
        "\n",
        "Conditional Statements\n",
        "\n",
        "Basic if-else"
      ],
      "metadata": {
        "id": "aG1U14400RWV"
      }
    },
    {
      "cell_type": "code",
      "source": [
        "def get_grade_letter(score):\n",
        "  if score>90:\n",
        "    return \"A\"\n",
        "  elif score>80:\n",
        "    return \"B\"\n",
        "  elif score>70:\n",
        "      return \"C\"\n",
        "  elif score>60:\n",
        "    return \"D\"\n",
        "  else:\n",
        "      return \"F\"\n"
      ],
      "metadata": {
        "id": "RTnajc0d0c0U"
      },
      "execution_count": null,
      "outputs": []
    },
    {
      "cell_type": "markdown",
      "source": [
        "Test the function\n",
        "\n"
      ],
      "metadata": {
        "id": "cIrxbdEZ1Sga"
      }
    },
    {
      "cell_type": "code",
      "source": [
        "test_scores = [95,82,78,66,53]\n",
        "for score in test_scores:\n",
        "   grade = get_grade_letter(score)\n",
        "   print(f\"Score {score}:Grade {grade}\")"
      ],
      "metadata": {
        "colab": {
          "base_uri": "https://localhost:8080/"
        },
        "id": "THB8_O3w18eu",
        "outputId": "20f77eef-9112-48c4-9477-821d503e28d7"
      },
      "execution_count": null,
      "outputs": [
        {
          "output_type": "stream",
          "name": "stdout",
          "text": [
            "Score 95:Grade A\n",
            "Score 82:Grade B\n",
            "Score 78:Grade C\n",
            "Score 66:Grade D\n",
            "Score 53:Grade F\n"
          ]
        }
      ]
    },
    {
      "cell_type": "markdown",
      "source": [
        "Nested conditions"
      ],
      "metadata": {
        "id": "kWCoJDYM2AIc"
      }
    },
    {
      "cell_type": "code",
      "source": [
        "def get_shipping_cost(weight,distance):\n",
        "  base_cost = 5.0\n",
        "\n",
        "  if weight<=1:\n",
        "    weight_cost = 2.0\n",
        "  elif weight<=5:\n",
        "    weight_cost=5.0\n",
        "  else:\n",
        "    weight_cost=10.0\n",
        "\n",
        "    if distance<=100:\n",
        "      distance_cost=1.0\n",
        "    elif distance<=500:\n",
        "      distance_cost=3.0\n",
        "    else:\n",
        "      distance_cost = 7.0\n",
        "    return base_cost + weight_cost + distance_cost\n"
      ],
      "metadata": {
        "id": "dJISRcD12C-O"
      },
      "execution_count": null,
      "outputs": []
    },
    {
      "cell_type": "markdown",
      "source": [],
      "metadata": {
        "id": "njTF7G5Q4gjd"
      }
    },
    {
      "cell_type": "markdown",
      "source": [
        "Test Shipping Costs"
      ],
      "metadata": {
        "id": "B95lXeng3LKL"
      }
    },
    {
      "cell_type": "code",
      "source": [
        "print(f\"Light,close:${get_shipping_cost(0.5,50)}\")\n",
        "print(f\"Heavy,far:${get_shipping_cost(10,800)}\")"
      ],
      "metadata": {
        "colab": {
          "base_uri": "https://localhost:8080/"
        },
        "id": "99qBWY7B3RL1",
        "outputId": "20a38e6b-24a4-4add-81c6-d16dc137d379"
      },
      "execution_count": null,
      "outputs": [
        {
          "output_type": "stream",
          "name": "stdout",
          "text": [
            "Light,close:$None\n",
            "Heavy,far:$22.0\n"
          ]
        }
      ]
    },
    {
      "cell_type": "code",
      "source": [],
      "metadata": {
        "id": "BwwtOGXKtUWh"
      },
      "execution_count": null,
      "outputs": []
    },
    {
      "cell_type": "markdown",
      "source": [
        "Loops-For Loop\n",
        "\n",
        "Basic for loop"
      ],
      "metadata": {
        "id": "L4wCkNPyteNr"
      }
    },
    {
      "cell_type": "code",
      "source": [
        "fruits = [\"apple\",\"banana\",\"orange\",'grape']\n",
        "for fruit in fruits:\n",
        "  print(f\"I like {fruit}\")"
      ],
      "metadata": {
        "colab": {
          "base_uri": "https://localhost:8080/"
        },
        "id": "8fxzhsnY4sJP",
        "outputId": "6ad2aca2-71ac-4c83-83af-0c3a9e49e03c"
      },
      "execution_count": null,
      "outputs": [
        {
          "output_type": "stream",
          "name": "stdout",
          "text": [
            "I like apple\n",
            "I like banana\n",
            "I like orange\n",
            "I like grape\n"
          ]
        }
      ]
    },
    {
      "cell_type": "markdown",
      "source": [
        "Loop with enumerate(get index)"
      ],
      "metadata": {
        "id": "TOO8Efag5Ipz"
      }
    },
    {
      "cell_type": "code",
      "source": [
        "for i,fruit in enumerate(fruits):\n",
        "  print(f\"{i+1}.{fruit}\")"
      ],
      "metadata": {
        "colab": {
          "base_uri": "https://localhost:8080/"
        },
        "id": "7sGaJKMz5QEs",
        "outputId": "4c66f725-e093-4e36-bc51-126f720a9c5e"
      },
      "execution_count": null,
      "outputs": [
        {
          "output_type": "stream",
          "name": "stdout",
          "text": [
            "1.apple\n",
            "2.banana\n",
            "3.orange\n",
            "4.grape\n"
          ]
        }
      ]
    },
    {
      "cell_type": "markdown",
      "source": [],
      "metadata": {
        "id": "_DA4csYV5jGa"
      }
    },
    {
      "cell_type": "markdown",
      "source": [
        "Loop with range"
      ],
      "metadata": {
        "id": "2YL4Zu1w5jRd"
      }
    },
    {
      "cell_type": "code",
      "source": [
        "for day in range(1,8):\n",
        "  print(f\"Day {day} of the week\")"
      ],
      "metadata": {
        "colab": {
          "base_uri": "https://localhost:8080/"
        },
        "id": "ELUlEvGS5nK7",
        "outputId": "a4ff0871-a5b0-4ca9-e62b-c6825cb6b74d"
      },
      "execution_count": null,
      "outputs": [
        {
          "output_type": "stream",
          "name": "stdout",
          "text": [
            "Day 1 of the week\n",
            "Day 2 of the week\n",
            "Day 3 of the week\n",
            "Day 4 of the week\n",
            "Day 5 of the week\n",
            "Day 6 of the week\n",
            "Day 7 of the week\n"
          ]
        }
      ]
    },
    {
      "cell_type": "markdown",
      "source": [
        "Nested loops-Creating a multiplication table"
      ],
      "metadata": {
        "id": "AOuA6u2g58MK"
      }
    },
    {
      "cell_type": "code",
      "source": [
        "print(\"Multiplication Table:\")\n",
        "for i in range(1,6):\n",
        "   for j in range(1,6):\n",
        "      product = i * j\n",
        "      print(f\"{i} * {j} = {product:2d}\",end=\" \")\n",
        "      print() #New line after each row\n"
      ],
      "metadata": {
        "colab": {
          "base_uri": "https://localhost:8080/"
        },
        "id": "BIOc2CbH6HtN",
        "outputId": "b2417bb9-8813-4377-c43c-e6e6faeebcf2"
      },
      "execution_count": null,
      "outputs": [
        {
          "output_type": "stream",
          "name": "stdout",
          "text": [
            "Multiplication Table:\n",
            "1 * 1 =  1 \n",
            "1 * 2 =  2 \n",
            "1 * 3 =  3 \n",
            "1 * 4 =  4 \n",
            "1 * 5 =  5 \n",
            "2 * 1 =  2 \n",
            "2 * 2 =  4 \n",
            "2 * 3 =  6 \n",
            "2 * 4 =  8 \n",
            "2 * 5 = 10 \n",
            "3 * 1 =  3 \n",
            "3 * 2 =  6 \n",
            "3 * 3 =  9 \n",
            "3 * 4 = 12 \n",
            "3 * 5 = 15 \n",
            "4 * 1 =  4 \n",
            "4 * 2 =  8 \n",
            "4 * 3 = 12 \n",
            "4 * 4 = 16 \n",
            "4 * 5 = 20 \n",
            "5 * 1 =  5 \n",
            "5 * 2 = 10 \n",
            "5 * 3 = 15 \n",
            "5 * 4 = 20 \n",
            "5 * 5 = 25 \n"
          ]
        }
      ]
    },
    {
      "cell_type": "markdown",
      "source": [
        "Processing data with loops"
      ],
      "metadata": {
        "id": "SbA7ltiY9U7A"
      }
    },
    {
      "cell_type": "code",
      "source": [
        "sales_data = [\n",
        "{\"product\": \"Laptop\", \"price\": 999, \"quantity\": 5},\n",
        "{\"product\": \"Phone\", \"price\": 599, \"quantity\": 10},\n",
        "{\"product\": \"Tablet\", \"price\": 399, \"quantity\": 8}\n",
        "]\n",
        "\n",
        "total_revenue = 0\n",
        "\n",
        "for item in sales_data:\n",
        "  item_revenue = item[\"price\"] * item[\"quantity\"]\n",
        "  total_revenue += item_revenue\n",
        "  print(f\"{item['product']}: ${item_revenue}\")\n",
        "\n",
        "print(f\"Total Revenue: ${total_revenue}\")\n"
      ],
      "metadata": {
        "colab": {
          "base_uri": "https://localhost:8080/"
        },
        "id": "nVLkajsv9Yky",
        "outputId": "6dd017c5-a0fc-4b04-b221-bc3d8a70b7f1"
      },
      "execution_count": null,
      "outputs": [
        {
          "output_type": "stream",
          "name": "stdout",
          "text": [
            "Laptop: $4995\n",
            "Phone: $5990\n",
            "Tablet: $3192\n",
            "Total Revenue: $14177\n"
          ]
        }
      ]
    },
    {
      "cell_type": "markdown",
      "source": [
        "Loops-While Loop\n",
        "\n",
        "While loop for user input simulation"
      ],
      "metadata": {
        "id": "9ykT-lik9sbT"
      }
    },
    {
      "cell_type": "code",
      "source": [
        "def simple_guessing_game():\n",
        "  target = 7\n",
        "  guess = 0\n",
        "  attempts = 0\n",
        "  print(\"Guess the number between 1 and 10!\")\n",
        "\n",
        "  while guess != target:\n",
        "\n",
        "    # Simulate user input\n",
        "    import random\n",
        "    guess = random.randint(1, 10)\n",
        "    attempts += 1\n",
        "\n",
        "    if guess < target:\n",
        "      print(f\"Guess {attempts}: {guess} - Too low!\")\n",
        "    elif guess > target:\n",
        "      print(f\"Guess {attempts}: {guess} - Too high!\")\n",
        "    else:\n",
        "      print(f\"Guess {attempts}: {guess} - Correct!\")\n",
        "\n",
        "    # Safety check\n",
        "    if attempts > 10:\n",
        "      print(\"Max attempts reached!\")\n",
        "      break\n",
        "\n",
        "  print(f\"Game finished in {attempts} attempts\")\n",
        "\n",
        "simple_guessing_game()\n",
        "\n",
        "\n"
      ],
      "metadata": {
        "colab": {
          "base_uri": "https://localhost:8080/"
        },
        "id": "fftgD7Gs96r6",
        "outputId": "19402ff1-d5b5-4db8-b5e6-62a478bfbd38"
      },
      "execution_count": null,
      "outputs": [
        {
          "output_type": "stream",
          "name": "stdout",
          "text": [
            "Guess the number between 1 and 10!\n",
            "Guess 1: 4 - Too low!\n",
            "Guess 2: 3 - Too low!\n",
            "Guess 3: 6 - Too low!\n",
            "Guess 4: 5 - Too low!\n",
            "Guess 5: 6 - Too low!\n",
            "Guess 6: 7 - Correct!\n",
            "Game finished in 6 attempts\n"
          ]
        }
      ]
    },
    {
      "cell_type": "markdown",
      "source": [
        "While loop for processing"
      ],
      "metadata": {
        "id": "RTzfcRd8-W1O"
      }
    },
    {
      "cell_type": "code",
      "source": [
        "def process_queue():\n",
        "  queue = [\"Task 1\", \"Task 2\", \"Task 3\", \"Task 4\"]\n",
        "\n",
        "  while queue:\n",
        "    current_task = queue.pop(0) # Remove first item\n",
        "    print(f\"Processing: {current_task}\")\n",
        "\n",
        "    print(f\"Remaining tasks: {len(queue)}\")\n",
        "\n",
        "  print(\"All tasks completed!\")\n",
        "\n",
        "process_queue()"
      ],
      "metadata": {
        "colab": {
          "base_uri": "https://localhost:8080/"
        },
        "id": "-3wLD-U_-a_Z",
        "outputId": "2419768a-6699-4018-ad5b-df2ec2d7f232"
      },
      "execution_count": null,
      "outputs": [
        {
          "output_type": "stream",
          "name": "stdout",
          "text": [
            "Processing: Task 1\n",
            "Remaining tasks: 3\n",
            "Processing: Task 2\n",
            "Remaining tasks: 2\n",
            "Processing: Task 3\n",
            "Remaining tasks: 1\n",
            "Processing: Task 4\n",
            "Remaining tasks: 0\n",
            "All tasks completed!\n"
          ]
        }
      ]
    },
    {
      "cell_type": "markdown",
      "source": [
        "Functions\n",
        "\n",
        "Function Basics\n",
        "\n",
        "Basic function definition"
      ],
      "metadata": {
        "id": "MBUzBfRp-k-h"
      }
    },
    {
      "cell_type": "code",
      "source": [
        "def greet(name):\n",
        "  return f\"Hello, {name}!\"\n"
      ],
      "metadata": {
        "id": "bsxuMsa--tIc"
      },
      "execution_count": null,
      "outputs": []
    },
    {
      "cell_type": "markdown",
      "source": [
        "Function call"
      ],
      "metadata": {
        "id": "D5V4Czb9-z-8"
      }
    },
    {
      "cell_type": "code",
      "source": [
        "message = greet(\"Python Programmer\")\n",
        "print(message)\n"
      ],
      "metadata": {
        "colab": {
          "base_uri": "https://localhost:8080/"
        },
        "id": "-GaryIt3-2ce",
        "outputId": "5a8745ea-29ab-40c9-bfad-d562e25a835e"
      },
      "execution_count": null,
      "outputs": [
        {
          "output_type": "stream",
          "name": "stdout",
          "text": [
            "Hello, Python Programmer!\n"
          ]
        }
      ]
    },
    {
      "cell_type": "markdown",
      "source": [
        "Function with multiple parameters\n"
      ],
      "metadata": {
        "id": "blxxTKOD-7TT"
      }
    },
    {
      "cell_type": "code",
      "source": [
        "\n",
        "def calculate_area(length, width):\n",
        "  area = length * width\n",
        "  return area"
      ],
      "metadata": {
        "id": "VE-trJHO_AGq"
      },
      "execution_count": null,
      "outputs": []
    },
    {
      "cell_type": "markdown",
      "source": [
        "Test the function\n"
      ],
      "metadata": {
        "id": "Nrpu4SJH_I9F"
      }
    },
    {
      "cell_type": "code",
      "source": [
        "room_area = calculate_area(12, 10)\n",
        "print(f\"Room area: {room_area} square feet\")\n",
        "\n"
      ],
      "metadata": {
        "colab": {
          "base_uri": "https://localhost:8080/"
        },
        "id": "uNdY_c3z_MUM",
        "outputId": "1962d403-bacc-4b12-ea44-e8a32e0a5b66"
      },
      "execution_count": null,
      "outputs": [
        {
          "output_type": "stream",
          "name": "stdout",
          "text": [
            "Room area: 120 square feet\n"
          ]
        }
      ]
    },
    {
      "cell_type": "markdown",
      "source": [],
      "metadata": {
        "id": "odAtRaBi_xMS"
      }
    },
    {
      "cell_type": "markdown",
      "source": [
        "Function with default parameters"
      ],
      "metadata": {
        "id": "1mD9o0M6AuyY"
      }
    },
    {
      "cell_type": "code",
      "source": [
        "def create_user_profile(name, age=18, location=\"Unknown\", active=True):\n",
        "  return {\n",
        "      \"name\": name,\n",
        "      \"age\": age,\n",
        "      \"location\": location,\n",
        "      \"active\": active\n",
        "  }\n"
      ],
      "metadata": {
        "id": "NEdCtBBZA01s"
      },
      "execution_count": null,
      "outputs": []
    },
    {
      "cell_type": "markdown",
      "source": [],
      "metadata": {
        "id": "g4CMKr5PBCgW"
      }
    },
    {
      "cell_type": "markdown",
      "source": [
        "Differnt ways to call"
      ],
      "metadata": {
        "id": "ynNORZJEByf9"
      }
    },
    {
      "cell_type": "code",
      "source": [
        "profile1 = create_user_profile(\"Alice\") # Use defaults\n",
        "profile2 = create_user_profile(\"Bob\", 25) # Override age\n",
        "profile3 = create_user_profile(\"Charlie\", location=\"New York\", age=30) # Named parameters\n",
        "\n",
        "print(f\"Profile 1: {profile1}\")\n",
        "print(f\"Profile 2: {profile2}\")\n",
        "print(f\"Profile 3: {profile3}\")\n"
      ],
      "metadata": {
        "colab": {
          "base_uri": "https://localhost:8080/"
        },
        "id": "Tr2mpjlPB1hJ",
        "outputId": "b4e465d7-ba03-484d-ea5a-ebb0b2a61db9"
      },
      "execution_count": null,
      "outputs": [
        {
          "output_type": "stream",
          "name": "stdout",
          "text": [
            "Profile 1: {'name': 'Alice', 'age': 18, 'location': 'Unknown', 'active': True}\n",
            "Profile 2: {'name': 'Bob', 'age': 25, 'location': 'Unknown', 'active': True}\n",
            "Profile 3: {'name': 'Charlie', 'age': 30, 'location': 'New York', 'active': True}\n"
          ]
        }
      ]
    },
    {
      "cell_type": "markdown",
      "source": [
        "Advanced Function Concepts\n",
        "\n",
        "Function returning multiple values\n",
        "\n"
      ],
      "metadata": {
        "id": "eySeiiRZCIgg"
      }
    },
    {
      "cell_type": "code",
      "source": [
        "def analyze_text(text):\n",
        "  words = text.split()\n",
        "  word_count = len(words)\n",
        "  char_count = len(text)\n",
        "  char_count_no_spaces = len(text.replace(\" \",\"\"))\n",
        "  return word_count,char_count,char_count_no_spaces\n"
      ],
      "metadata": {
        "id": "hK1f2Q48CSRZ"
      },
      "execution_count": null,
      "outputs": []
    },
    {
      "cell_type": "markdown",
      "source": [
        "Test with sample text"
      ],
      "metadata": {
        "id": "FV5ZVkpMDI6N"
      }
    },
    {
      "cell_type": "code",
      "source": [
        "sample_text = \"Python is a powerful programming language\"\n",
        "words, chars, chars_no_space = analyze_text(sample_text)\n",
        "print(f\"Text: '{sample_text}'\")\n",
        "print(f\"Word count: {words}\")\n",
        "print(f\"Character count: {chars}\")\n",
        "print(f\"Characters (no spaces): {chars_no_space}\")\n"
      ],
      "metadata": {
        "colab": {
          "base_uri": "https://localhost:8080/"
        },
        "id": "qpVTGrxkDMH6",
        "outputId": "7863fd3a-c6e1-4145-ff61-052232671d50"
      },
      "execution_count": null,
      "outputs": [
        {
          "output_type": "stream",
          "name": "stdout",
          "text": [
            "Text: 'Python is a powerful programming language'\n",
            "Word count: 6\n",
            "Character count: 41\n",
            "Characters (no spaces): 36\n"
          ]
        }
      ]
    },
    {
      "cell_type": "markdown",
      "source": [
        "Variable-length arguements"
      ],
      "metadata": {
        "id": "GJPlKHIJD3VK"
      }
    },
    {
      "cell_type": "code",
      "source": [
        "def calculate_average(*numbers):\n",
        "  if not numbers:\n",
        "    return 0\n",
        "    return sum(numbers) / len(numbers)"
      ],
      "metadata": {
        "id": "A0jpMYQcwlBo"
      },
      "execution_count": null,
      "outputs": []
    },
    {
      "cell_type": "markdown",
      "source": [
        "Test with different numbers of arguements"
      ],
      "metadata": {
        "id": "auZ00um4EeCc"
      }
    },
    {
      "cell_type": "code",
      "source": [
        "avg1 = calculate_average(10, 20, 30)\n",
        "avg2 = calculate_average(5, 15, 25, 35, 45)\n",
        "avg3 = calculate_average(100)\n",
        "\n",
        "print(f\"Average of 10, 20, 30: {avg1}\")\n",
        "print(f\"Average of 5, 15, 25, 35, 45: {avg2}\")\n",
        "print(f\"Average of 100: {avg3}\")\n",
        "\n"
      ],
      "metadata": {
        "colab": {
          "base_uri": "https://localhost:8080/"
        },
        "id": "nQFzg8JhEmCz",
        "outputId": "49dc1156-54d6-4365-bddc-ec1762da4783"
      },
      "execution_count": null,
      "outputs": [
        {
          "output_type": "stream",
          "name": "stdout",
          "text": [
            "Average of 10, 20, 30: None\n",
            "Average of 5, 15, 25, 35, 45: None\n",
            "Average of 100: None\n"
          ]
        }
      ]
    },
    {
      "cell_type": "markdown",
      "source": [],
      "metadata": {
        "id": "Wgx8BwWL0QlM"
      }
    },
    {
      "cell_type": "code",
      "source": [],
      "metadata": {
        "id": "RGtCavqi4l4Q"
      },
      "execution_count": null,
      "outputs": []
    },
    {
      "cell_type": "markdown",
      "source": [],
      "metadata": {
        "id": "8FEHQFEw4nfF"
      }
    },
    {
      "cell_type": "markdown",
      "source": [
        "Keyword arguemnts"
      ],
      "metadata": {
        "id": "7-x3w8_cUVQR"
      }
    },
    {
      "cell_type": "code",
      "source": [
        "def create_report(**data):\n",
        "  print(\"=== REPORT ===\")\n",
        "  for key, value in data.items():\n",
        "    print(f\"{key.replace('_', ' ').title()}: {value}\")\n",
        "\n",
        "  print(\"===============\")\n",
        "\n",
        "create_report(\n",
        "  title=\"Monthly Sales Report\",\n",
        "  date=\"2024-01-01\",\n",
        "  total_sales=15000,\n",
        "  new_customers=25,\n",
        "  returning_customers=150\n",
        ")\n"
      ],
      "metadata": {
        "colab": {
          "base_uri": "https://localhost:8080/"
        },
        "id": "dnpycLomUcUo",
        "outputId": "1c40fc98-3a5e-4fbf-e81d-8afd7e0de566"
      },
      "execution_count": null,
      "outputs": [
        {
          "output_type": "stream",
          "name": "stdout",
          "text": [
            "=== REPORT ===\n",
            "Title: Monthly Sales Report\n",
            "Date: 2024-01-01\n",
            "Total Sales: 15000\n",
            "New Customers: 25\n",
            "Returning Customers: 150\n",
            "===============\n"
          ]
        }
      ]
    },
    {
      "cell_type": "markdown",
      "source": [
        "Lambda Functions\n",
        "\n",
        "Lambda functions(anonymous function)\n",
        "\n",
        "Regular function"
      ],
      "metadata": {
        "id": "eGSzrc7nsgXA"
      }
    },
    {
      "cell_type": "code",
      "source": [
        "def square(x):\n",
        "  return x ** 2"
      ],
      "metadata": {
        "id": "RUlV9_DhswjH"
      },
      "execution_count": null,
      "outputs": []
    },
    {
      "cell_type": "markdown",
      "source": [
        "Lambda equivalent"
      ],
      "metadata": {
        "id": "PPs-Ym3NtBB8"
      }
    },
    {
      "cell_type": "code",
      "source": [
        "square_lambda = lambda x: x ** 2\n",
        "print(f\"Regular function: {square(5)}\")\n",
        "print(f\"Lambda function: {square_lambda(5)}\")"
      ],
      "metadata": {
        "colab": {
          "base_uri": "https://localhost:8080/"
        },
        "id": "07rlC3w4tEJU",
        "outputId": "98b25b3a-ede3-4a51-80ec-11a19254b847"
      },
      "execution_count": null,
      "outputs": [
        {
          "output_type": "stream",
          "name": "stdout",
          "text": [
            "Regular function: 25\n",
            "Lambda function: 25\n"
          ]
        }
      ]
    },
    {
      "cell_type": "markdown",
      "source": [
        "Lambda with multiple arguements"
      ],
      "metadata": {
        "id": "Q0OpiLwBtnT-"
      }
    },
    {
      "cell_type": "code",
      "source": [
        "multiply = lambda x,y:x * y\n",
        "print(f\"Multiply: {multiply(3,4)}\")"
      ],
      "metadata": {
        "colab": {
          "base_uri": "https://localhost:8080/"
        },
        "id": "m4Eavf6dtrXC",
        "outputId": "28d8059d-0425-4d7f-dfc8-b6df07dc510b"
      },
      "execution_count": null,
      "outputs": [
        {
          "output_type": "stream",
          "name": "stdout",
          "text": [
            "Multiply: 12\n"
          ]
        }
      ]
    },
    {
      "cell_type": "code",
      "source": [
        "numbers = [1, 2, 3, 4, 5]\n",
        "squared = list(map(lambda x: x**2, numbers))\n",
        "print(f\"Squared numbers: {squared}\")"
      ],
      "metadata": {
        "id": "CFbW6MzJsj5W",
        "colab": {
          "base_uri": "https://localhost:8080/"
        },
        "outputId": "822a6269-13c2-4cb9-ed8a-896d463c2fce"
      },
      "execution_count": null,
      "outputs": [
        {
          "output_type": "stream",
          "name": "stdout",
          "text": [
            "Squared numbers: [1, 4, 9, 16, 25]\n"
          ]
        }
      ]
    },
    {
      "cell_type": "markdown",
      "source": [
        "F"
      ],
      "metadata": {
        "id": "lIPWoVmjvT6g"
      }
    },
    {
      "cell_type": "markdown",
      "source": [
        "Filtering with lambda"
      ],
      "metadata": {
        "id": "o-ZrHtEyvUkt"
      }
    },
    {
      "cell_type": "code",
      "source": [
        "ages = [16, 21, 35, 12, 45, 18, 67]\n",
        "adults = list(filter(lambda age: age <= 18, ages))\n",
        "print(f\"Adult ages: {adults}\")\n"
      ],
      "metadata": {
        "colab": {
          "base_uri": "https://localhost:8080/"
        },
        "id": "R0xXaWAGvbKQ",
        "outputId": "51ad0cd3-0428-43bd-e469-3827b1e9b6ee"
      },
      "execution_count": null,
      "outputs": [
        {
          "output_type": "stream",
          "name": "stdout",
          "text": [
            "Adult ages: [16, 12, 18]\n"
          ]
        }
      ]
    },
    {
      "cell_type": "markdown",
      "source": [
        "Sorting with lambda"
      ],
      "metadata": {
        "id": "Cd4H36E1vji3"
      }
    },
    {
      "cell_type": "code",
      "source": [
        "people = [\n",
        "  {\"name\": \"Alice\", \"age\": 30},\n",
        "  {\"name\": \"Bob\", \"age\": 25},\n",
        "  {\"name\": \"Charlie\", \"age\": 35}\n",
        "]\n",
        "\n",
        "sorted_people = sorted(people, key=lambda person: person[\"age\"])\n",
        "print(\"People sorted by age:\")\n",
        "\n",
        "for person in sorted_people:\n",
        "  print(f\" {person['name']}: {person['age']}\")\n"
      ],
      "metadata": {
        "colab": {
          "base_uri": "https://localhost:8080/"
        },
        "id": "UM8bq_4JvpMO",
        "outputId": "68c6762a-6094-4795-b126-d8021dafe30f"
      },
      "execution_count": null,
      "outputs": [
        {
          "output_type": "stream",
          "name": "stdout",
          "text": [
            "People sorted by age:\n",
            " Bob: 25\n",
            " Alice: 30\n",
            " Charlie: 35\n"
          ]
        }
      ]
    },
    {
      "cell_type": "markdown",
      "source": [
        "Library management system"
      ],
      "metadata": {
        "id": "V-y5J-mAsk_o"
      }
    },
    {
      "cell_type": "code",
      "source": [],
      "metadata": {
        "id": "nJo3JmAR0W8h"
      },
      "execution_count": null,
      "outputs": []
    }
  ]
}