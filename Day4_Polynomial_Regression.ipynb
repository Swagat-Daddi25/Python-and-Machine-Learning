{
  "nbformat": 4,
  "nbformat_minor": 0,
  "metadata": {
    "colab": {
      "provenance": []
    },
    "kernelspec": {
      "name": "python3",
      "display_name": "Python 3"
    },
    "language_info": {
      "name": "python"
    }
  },
  "cells": [
    {
      "cell_type": "markdown",
      "source": [
        "Linear vs Polynomial Regression"
      ],
      "metadata": {
        "id": "I3CpI2A19595"
      }
    },
    {
      "cell_type": "markdown",
      "source": [
        "Introduction: When and Why to Use Polynomial Regression"
      ],
      "metadata": {
        "id": "eTjuYrBw99_F"
      }
    },
    {
      "cell_type": "markdown",
      "source": [
        "Polynomial regression is used when the relationship between the independent variable (X) and the dependent variable (y) is non-linear. If a linear model underfits the data, polynomial regression may improve model accuracy by introducing higher-order terms."
      ],
      "metadata": {
        "id": "BbxXMTVq-Ayw"
      }
    },
    {
      "cell_type": "markdown",
      "source": [
        "Polynomial Regression Formula"
      ],
      "metadata": {
        "id": "dj-YtbKm-FQG"
      }
    },
    {
      "cell_type": "markdown",
      "source": [
        "The general formula for a polynomial regression of degree ( n ) is:\n",
        "\n",
        "\n",
        "Where:\n",
        "\n",
        "( b_0, b_1, ..., b_n ) are the coefficients\n",
        "( x ) is the independent variable\n",
        "Example\n",
        "Suppose we have a dataset:\n",
        "\n",
        "X = [1, 2, 3]\n",
        "y = [3, 6, 13]\n",
        "\n",
        "We want to fit a polynomial model of degree 2:\n",
        "\n",
        "\n",
        "Constructing the design matrix (X_poly):\n",
        "\n",
        "X_poly = [[1, 1,  1],   # x = 1 → [1, x, x^2]\n",
        "          [1, 2,  4],   # x = 2\n",
        "          [1, 3,  9]]   # x = 3\n",
        "\n",
        "And the target vector:\n",
        "\n",
        "y = [3, 6, 13]\n",
        "\n",
        "Using the normal equation in least squares:\n",
        "\n",
        "\n",
        "This will yield the values of ( b_0, b_1, b_2 ) that minimize the squared error."
      ],
      "metadata": {
        "id": "XSyMXkUU-LI2"
      }
    },
    {
      "cell_type": "markdown",
      "source": [
        "Visualizing Dummy Data"
      ],
      "metadata": {
        "id": "IjDWHCGPD1z1"
      }
    },
    {
      "cell_type": "markdown",
      "source": [
        "Dummy Data"
      ],
      "metadata": {
        "id": "Y0aVs8oJDtyg"
      }
    },
    {
      "cell_type": "code",
      "source": [
        "import numpy as np\n",
        "import matplotlib.pyplot as plt\n",
        "from sklearn.linear_model import LinearRegression\n",
        "from sklearn.preprocessing import PolynomialFeatures\n",
        "\n",
        "x=np.array([1,2,3,4,5]).reshape((-1,1))\n",
        "y=np.array([3,6,13,28,55])"
      ],
      "metadata": {
        "id": "ZcbFrBfnDx9k"
      },
      "execution_count": null,
      "outputs": []
    },
    {
      "cell_type": "markdown",
      "source": [
        "Linear Regression"
      ],
      "metadata": {
        "id": "Mx1bIb41EPB0"
      }
    },
    {
      "cell_type": "code",
      "source": [
        "linear_model=LinearRegression()\n",
        "linear_model.fit(x,y)\n",
        "y_linear_pred=linear_model.predict(x)"
      ],
      "metadata": {
        "id": "kQYFF3aGESR1"
      },
      "execution_count": null,
      "outputs": []
    },
    {
      "cell_type": "markdown",
      "source": [
        "Polynomial Regression(degree 2)"
      ],
      "metadata": {
        "id": "BJpzgHu2EYJI"
      }
    },
    {
      "cell_type": "code",
      "source": [
        "poly=PolynomialFeatures(degree=3)\n",
        "x_poly=poly.fit_transform(x)\n",
        "poly_model=LinearRegression()\n",
        "poly_model.fit(x_poly,y)\n",
        "y_pred_poly=poly_model.predict(x_poly)\n",
        "print(y_pred_poly)"
      ],
      "metadata": {
        "colab": {
          "base_uri": "https://localhost:8080/"
        },
        "id": "aAd716FCEdZQ",
        "outputId": "ae0e065b-115b-4652-e68f-a84720b62edc"
      },
      "execution_count": null,
      "outputs": [
        {
          "output_type": "stream",
          "name": "stdout",
          "text": [
            "[ 3.8  4.4 13.  29.6 54.2]\n"
          ]
        }
      ]
    },
    {
      "cell_type": "markdown",
      "source": [
        "Plot"
      ],
      "metadata": {
        "id": "E_AHAYGPFW_r"
      }
    },
    {
      "cell_type": "code",
      "source": [
        "plt.scatter(x,y,color='red',label='Actual')\n",
        "plt.plot(x,y_linear_pred,label='Linear Fit',color='blue')\n",
        "plt.plot(x,y_pred_poly,label='Polynomial Fit(deg=3)',color='green')\n",
        "plt.title(\"Linear vs Polynomial Fit(Dummy Data)\")\n",
        "plt.xlabel(\"x\")\n",
        "plt.ylabel(\"y\")\n",
        "plt.grid(True)\n",
        "plt.legend()\n",
        "plt.show()"
      ],
      "metadata": {
        "colab": {
          "base_uri": "https://localhost:8080/",
          "height": 472
        },
        "id": "elpFarG5FwEf",
        "outputId": "f1d866fb-4f1d-4d18-8281-34d4eca970db"
      },
      "execution_count": null,
      "outputs": [
        {
          "output_type": "display_data",
          "data": {
            "text/plain": [
              "<Figure size 640x480 with 1 Axes>"
            ],
            "image/png": "[encoded data removed]"
          },
          "metadata": {}
        }
      ]
    },
    {
      "cell_type": "markdown",
      "source": [
        "Real Dataset:Salary Prediction"
      ],
      "metadata": {
        "id": "gwb2WjgFJMWb"
      }
    },
    {
      "cell_type": "code",
      "source": [
        "import pandas as pd\n",
        "from sklearn.model_selection import train_test_split\n",
        "from sklearn.metrics import mean_squared_error,r2_score"
      ],
      "metadata": {
        "id": "6Ph6ttCbJVBv"
      },
      "execution_count": null,
      "outputs": []
    },
    {
      "cell_type": "markdown",
      "source": [
        "Load dataset"
      ],
      "metadata": {
        "id": "u3icAxy6MfnU"
      }
    },
    {
      "cell_type": "code",
      "source": [
        "df=pd.read_csv(\"https://raw.githubusercontent.com/Naresh312143/mahalingpur-python-ml/refs/heads/main/Salary_Data.csv\")\n",
        "df.info()\n"
      ],
      "metadata": {
        "colab": {
          "base_uri": "https://localhost:8080/"
        },
        "id": "zoB5sDMeMhaI",
        "outputId": "39954a85-6553-46e9-f5d3-b8629e083b15"
      },
      "execution_count": null,
      "outputs": [
        {
          "output_type": "stream",
          "name": "stdout",
          "text": [
            "<class 'pandas.core.frame.DataFrame'>\n",
            "RangeIndex: 6704 entries, 0 to 6703\n",
            "Data columns (total 2 columns):\n",
            " #   Column               Non-Null Count  Dtype  \n",
            "---  ------               --------------  -----  \n",
            " 0   Years of Experience  6701 non-null   float64\n",
            " 1   Salary               6699 non-null   float64\n",
            "dtypes: float64(2)\n",
            "memory usage: 104.9 KB\n"
          ]
        }
      ]
    },
    {
      "cell_type": "code",
      "source": [
        "df.iloc[6703]"
      ],
      "metadata": {
        "colab": {
          "base_uri": "https://localhost:8080/",
          "height": 147
        },
        "id": "bIINTWGPMvIY",
        "outputId": "2e47c901-11ec-480d-ac11-9c85b07bb221"
      },
      "execution_count": null,
      "outputs": [
        {
          "output_type": "execute_result",
          "data": {
            "text/plain": [
              "Years of Experience        1.0\n",
              "Salary                 35000.0\n",
              "Name: 6703, dtype: float64"
            ],
            "text/html": [
              "<div>\n",
              "<style scoped>\n",
              "    .dataframe tbody tr th:only-of-type {\n",
              "        vertical-align: middle;\n",
              "    }\n",
              "\n",
              "    .dataframe tbody tr th {\n",
              "        vertical-align: top;\n",
              "    }\n",
              "\n",
              "    .dataframe thead th {\n",
              "        text-align: right;\n",
              "    }\n",
              "</style>\n",
              "<table border=\"1\" class=\"dataframe\">\n",
              "  <thead>\n",
              "    <tr style=\"text-align: right;\">\n",
              "      <th></th>\n",
              "      <th>6703</th>\n",
              "    </tr>\n",
              "  </thead>\n",
              "  <tbody>\n",
              "    <tr>\n",
              "      <th>Years of Experience</th>\n",
              "      <td>1.0</td>\n",
              "    </tr>\n",
              "    <tr>\n",
              "      <th>Salary</th>\n",
              "      <td>35000.0</td>\n",
              "    </tr>\n",
              "  </tbody>\n",
              "</table>\n",
              "</div><br><label><b>dtype:</b> float64</label>"
            ]
          },
          "metadata": {},
          "execution_count": 21
        }
      ]
    },
    {
      "cell_type": "code",
      "source": [
        "df.isnull().sum()"
      ],
      "metadata": {
        "colab": {
          "base_uri": "https://localhost:8080/",
          "height": 147
        },
        "id": "Wsu0PsQQM4T0",
        "outputId": "8e0aa971-bf39-4064-f94c-daa96a7c78d2"
      },
      "execution_count": null,
      "outputs": [
        {
          "output_type": "execute_result",
          "data": {
            "text/plain": [
              "Years of Experience    3\n",
              "Salary                 5\n",
              "dtype: int64"
            ],
            "text/html": [
              "<div>\n",
              "<style scoped>\n",
              "    .dataframe tbody tr th:only-of-type {\n",
              "        vertical-align: middle;\n",
              "    }\n",
              "\n",
              "    .dataframe tbody tr th {\n",
              "        vertical-align: top;\n",
              "    }\n",
              "\n",
              "    .dataframe thead th {\n",
              "        text-align: right;\n",
              "    }\n",
              "</style>\n",
              "<table border=\"1\" class=\"dataframe\">\n",
              "  <thead>\n",
              "    <tr style=\"text-align: right;\">\n",
              "      <th></th>\n",
              "      <th>0</th>\n",
              "    </tr>\n",
              "  </thead>\n",
              "  <tbody>\n",
              "    <tr>\n",
              "      <th>Years of Experience</th>\n",
              "      <td>3</td>\n",
              "    </tr>\n",
              "    <tr>\n",
              "      <th>Salary</th>\n",
              "      <td>5</td>\n",
              "    </tr>\n",
              "  </tbody>\n",
              "</table>\n",
              "</div><br><label><b>dtype:</b> int64</label>"
            ]
          },
          "metadata": {},
          "execution_count": 22
        }
      ]
    },
    {
      "cell_type": "code",
      "source": [
        "df.dropna(inplace=True)\n",
        "df.isnull().sum()"
      ],
      "metadata": {
        "colab": {
          "base_uri": "https://localhost:8080/",
          "height": 147
        },
        "id": "pnhMfqUgNKMb",
        "outputId": "148086b0-c406-48bc-b0cf-9b38bbbf1ba8"
      },
      "execution_count": null,
      "outputs": [
        {
          "output_type": "execute_result",
          "data": {
            "text/plain": [
              "Years of Experience    0\n",
              "Salary                 0\n",
              "dtype: int64"
            ],
            "text/html": [
              "<div>\n",
              "<style scoped>\n",
              "    .dataframe tbody tr th:only-of-type {\n",
              "        vertical-align: middle;\n",
              "    }\n",
              "\n",
              "    .dataframe tbody tr th {\n",
              "        vertical-align: top;\n",
              "    }\n",
              "\n",
              "    .dataframe thead th {\n",
              "        text-align: right;\n",
              "    }\n",
              "</style>\n",
              "<table border=\"1\" class=\"dataframe\">\n",
              "  <thead>\n",
              "    <tr style=\"text-align: right;\">\n",
              "      <th></th>\n",
              "      <th>0</th>\n",
              "    </tr>\n",
              "  </thead>\n",
              "  <tbody>\n",
              "    <tr>\n",
              "      <th>Years of Experience</th>\n",
              "      <td>0</td>\n",
              "    </tr>\n",
              "    <tr>\n",
              "      <th>Salary</th>\n",
              "      <td>0</td>\n",
              "    </tr>\n",
              "  </tbody>\n",
              "</table>\n",
              "</div><br><label><b>dtype:</b> int64</label>"
            ]
          },
          "metadata": {},
          "execution_count": 23
        }
      ]
    },
    {
      "cell_type": "code",
      "source": [
        "X=df[[\"Years of Experience\"]]\n",
        "y=df[\"Salary\"]\n",
        "\n",
        "X_train,X_test,y_train,y_test=train_test_split(X,y,test_size=0.2,random_state=42)"
      ],
      "metadata": {
        "id": "8GdABCjZNeVi"
      },
      "execution_count": null,
      "outputs": []
    },
    {
      "cell_type": "markdown",
      "source": [
        "Linear Regression"
      ],
      "metadata": {
        "id": "Id0DayClNuPU"
      }
    },
    {
      "cell_type": "markdown",
      "source": [
        "Train linear regression"
      ],
      "metadata": {
        "id": "YECt4T8bNxOv"
      }
    },
    {
      "cell_type": "code",
      "source": [
        "lin_model = LinearRegression()\n",
        "lin_model.fit(X_train, y_train)\n",
        "y_pred_lin = lin_model.predict(X_test)"
      ],
      "metadata": {
        "id": "aAIYfNs4N0o6"
      },
      "execution_count": null,
      "outputs": []
    },
    {
      "cell_type": "markdown",
      "source": [
        "Metrics"
      ],
      "metadata": {
        "id": "bSSuZGzKOJYS"
      }
    },
    {
      "cell_type": "code",
      "source": [
        "mse_lin=mean_squared_error(y_test,y_pred_lin)\n",
        "rmse_lin=np.sqrt(mse_lin)\n",
        "r2_lin=r2_score(y_test,y_pred_lin)\n",
        "\n",
        "print(\"Linear Regression:\")\n",
        "print(\"MSE:\",mse_lin)\n",
        "print(\"RMSE\",rmse_lin)\n",
        "print(\"R2 Score:\",r2_lin)"
      ],
      "metadata": {
        "colab": {
          "base_uri": "https://localhost:8080/"
        },
        "id": "Z2WZBBnuOLux",
        "outputId": "75ab1977-f281-4236-f708-96907c9a13f1"
      },
      "execution_count": null,
      "outputs": [
        {
          "output_type": "stream",
          "name": "stdout",
          "text": [
            "Linear Regression:\n",
            "MSE: 946833177.7094355\n",
            "RMSE 30770.654489455297\n",
            "R2 Score: 0.6669549610495003\n"
          ]
        }
      ]
    },
    {
      "cell_type": "markdown",
      "source": [
        "Polynomial Regression(Degrees 2 and 4)"
      ],
      "metadata": {
        "id": "4IplzUKZPtqg"
      }
    },
    {
      "cell_type": "markdown",
      "source": [
        "Degree 2"
      ],
      "metadata": {
        "id": "Yg3EVplqP0ZL"
      }
    },
    {
      "cell_type": "code",
      "source": [
        "poly2=PolynomialFeatures(degree=2)\n",
        "X_train_poly2=poly2.fit_transform(X_train)\n",
        "X_test_poly2=poly2.transform(X_test)\n",
        "\n",
        "poly2_model= LinearRegression()\n",
        "poly2_model.fit(X_train_poly2,y_train)\n",
        "y_pred_poly2=poly2_model.predict(X_test_poly2)"
      ],
      "metadata": {
        "id": "npsTUF4zP4RT"
      },
      "execution_count": null,
      "outputs": []
    },
    {
      "cell_type": "markdown",
      "source": [
        "Degree 2"
      ],
      "metadata": {
        "id": "RN6X9K6DZtum"
      }
    },
    {
      "cell_type": "code",
      "source": [
        "poly2=PolynomialFeatures(degree=2)\n",
        "X_train_poly2=poly2.fit_transform(X_train)\n",
        "X_test_poly2=poly2.transform(X_test)\n",
        "\n",
        "poly2_model=LinearRegression()\n",
        "poly2_model.fit(X_train_poly2,y_train)\n",
        "y_pred_poly2=poly2_model.predict(X_test_poly2)"
      ],
      "metadata": {
        "id": "t0SLnvfpZwCc"
      },
      "execution_count": null,
      "outputs": []
    },
    {
      "cell_type": "markdown",
      "source": [
        "Metrics"
      ],
      "metadata": {
        "id": "S3WtNFigaPJ8"
      }
    },
    {
      "cell_type": "code",
      "source": [
        "mse_poly2=mean_squared_error(y_test,y_pred_poly2)\n",
        "rmse_poly2=np.sqrt(mse_poly2)\n",
        "r2_poly2=r2_score(y_test,y_pred_poly2)\n"
      ],
      "metadata": {
        "id": "dReYZbEtaQtJ"
      },
      "execution_count": null,
      "outputs": []
    },
    {
      "cell_type": "markdown",
      "source": [
        "Degree 4"
      ],
      "metadata": {
        "id": "0pYpHoGiazEp"
      }
    },
    {
      "cell_type": "code",
      "source": [
        "poly4=PolynomialFeatures(degree=4)\n",
        "X_train_poly4=poly4.fit_transform(X_train)\n",
        "X_test_poly4=poly4.transform(X_test)\n",
        "\n",
        "poly4_model=LinearRegression()\n",
        "poly4_model.fit(X_train_poly4,y_train)\n",
        "y_pred_poly4=poly4_model.predict(X_test_poly4)"
      ],
      "metadata": {
        "id": "WrZjqeKXa1oH"
      },
      "execution_count": 32,
      "outputs": []
    },
    {
      "cell_type": "markdown",
      "source": [
        "Metrics"
      ],
      "metadata": {
        "id": "NEUsi9WshtOu"
      }
    },
    {
      "cell_type": "code",
      "source": [
        "mse_poly4=mean_squared_error(y_test,y_pred_poly4)\n",
        "rmse_poly4=np.sqrt(mse_poly4)\n",
        "r2_poly4=r2_score(y_test,y_pred_poly4)\n",
        "print(\"\\nPolynomial Regression (Degree 2):\")\n",
        "print(\"MSE:\", mse_poly2)\n",
        "print(\"RMSE:\", rmse_poly2)\n",
        "print(\"R2 Score:\", r2_poly2)\n",
        "\n",
        "print(\"\\nPolynomial Regression (Degree 4):\")\n",
        "print(\"MSE:\", mse_poly4)\n",
        "print(\"RMSE:\", rmse_poly4)\n",
        "print(\"R2 Score:\", r2_poly4)\n"
      ],
      "metadata": {
        "colab": {
          "base_uri": "https://localhost:8080/"
        },
        "id": "iTgv7rMviALb",
        "outputId": "45256a67-46ff-4799-9888-5216bf6d57fc"
      },
      "execution_count": 34,
      "outputs": [
        {
          "output_type": "stream",
          "name": "stdout",
          "text": [
            "\n",
            "Polynomial Regression (Degree 2):\n",
            "MSE: 726857249.7211918\n",
            "RMSE: 26960.290238074067\n",
            "R2 Score: 0.7443306732971963\n",
            "\n",
            "Polynomial Regression (Degree 4):\n",
            "MSE: 720033651.6859531\n",
            "RMSE: 26833.44278481524\n",
            "R2 Score: 0.7467308484568018\n"
          ]
        }
      ]
    },
    {
      "cell_type": "markdown",
      "source": [
        "Visualization Of All Models"
      ],
      "metadata": {
        "id": "MDbgLJ30lKlP"
      }
    },
    {
      "cell_type": "markdown",
      "source": [
        "Generate smooth line for predictions"
      ],
      "metadata": {
        "id": "JX9uO93UlRAl"
      }
    },
    {
      "cell_type": "code",
      "source": [
        "\n",
        "X_range = np.linspace(X.min(), X.max(), 100).reshape(-1, 1)\n",
        "\n",
        "# Create DataFrame with column name\n",
        "X_range_df = pd.DataFrame(X_range, columns=[\"Years of Experience\"])\n",
        "\n",
        "# Transform using polynomial features\n",
        "X_range_poly2 = poly2.transform(X_range_df)\n",
        "X_range_poly4 = poly4.transform(X_range_df)\n",
        "\n",
        "# Predict using models\n",
        "y_range_lin = lin_model.predict(X_range_df)\n",
        "y_range_poly2 = poly2_model.predict(X_range_poly2)\n",
        "y_range_poly4 = poly4_model.predict(X_range_poly4)\n",
        "\n",
        "# Plot\n",
        "plt.scatter(X, y, color='red', label='Actual Data')\n",
        "plt.plot(X_range, y_range_lin, label='Linear Model', color='blue')\n",
        "plt.plot(X_range, y_range_poly2, label='Polynomial Degree 2', color='green')\n",
        "plt.plot(X_range, y_range_poly4, label='Polynomial Degree 4', color='purple')\n",
        "plt.xlabel(\"Years of Experience\")\n",
        "plt.ylabel(\"Salary\")\n",
        "plt.title(\"Model Comparison\")\n",
        "plt.legend()\n",
        "plt.grid(True)\n",
        "plt.show()"
      ],
      "metadata": {
        "colab": {
          "base_uri": "https://localhost:8080/",
          "height": 472
        },
        "id": "vNZ0Y9sOlXn7",
        "outputId": "2e65c484-3e33-4e6a-8e99-70f4d6428cc9"
      },
      "execution_count": 35,
      "outputs": [
        {
          "output_type": "display_data",
          "data": {
            "text/plain": [
              "<Figure size 640x480 with 1 Axes>"
            ],
            "image/png": "[encoded data removed]"
          },
          "metadata": {}
        }
      ]
    }
  ]
}